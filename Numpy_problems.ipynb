{
  "nbformat": 4,
  "nbformat_minor": 0,
  "metadata": {
    "colab": {
      "provenance": [],
      "authorship_tag": "ABX9TyPJICJKc2zBAliN+XN0Jd6h",
      "include_colab_link": true
    },
    "kernelspec": {
      "name": "python3",
      "display_name": "Python 3"
    },
    "language_info": {
      "name": "python"
    }
  },
  "cells": [
    {
      "cell_type": "markdown",
      "metadata": {
        "id": "view-in-github",
        "colab_type": "text"
      },
      "source": [
        "<a href=\"https://colab.research.google.com/github/n-prathyusha82/Numpy_problem-HackerRank-/blob/main/Numpy_problems.ipynb\" target=\"_parent\"><img src=\"https://colab.research.google.com/assets/colab-badge.svg\" alt=\"Open In Colab\"/></a>"
      ]
    },
    {
      "cell_type": "markdown",
      "source": [
        "**pb-1:shape:\n",
        "The shape tool gives a tuple of array dimensions and can be used to change the dimensions of an array.\n",
        "(a). Using shape to get array dimensions,\n",
        "import numpy,\n",
        "my__1D_array = numpy.array([1, 2, 3, 4, 5])\n",
        "print my_1D_array.shape     #(5,) -> 1 row and 5 columns,\n",
        "my__2D_array = numpy.array([[1, 2],[3, 4],[6,5]])\n",
        "print my_2D_array.shape     #(3, 2) -> 3 rows and 2 columns,\n",
        "(b). Using shape to change array dimensions.\n",
        "import numpy and\n",
        "change_array = numpy.array([1,2,3,4,5,6])\n",
        "change_array.shape = (3, 2)\n",
        "print change_array,     \n",
        "Output:\n",
        "[[1 2]\n",
        "[3 4]\n",
        "[5 6]]\n",
        "reshape.\n",
        "The reshape tool gives a new shape to an array without changing its data. It creates a new array and does not modify the original array itself.\n",
        "import numpy and\n",
        "my_array = numpy.array([1,2,3,4,5,6])\n",
        "print numpy.reshape(my_array,(3,2)),\n",
        "Output:\n",
        "[[1 2]\n",
        "[3 4]\n",
        "[5 6]]\n",
        "Task:\n",
        "You are given a space separated list of nine integers. Your task is to convert this list into a X NumPy array.\n",
        "Input Format:\n",
        "A single line of input containing  space separated integers.\n",
        "Output Format:\n",
        "Print the X NumPy array.\n",
        "Sample Input:\n",
        "1 2 3 4 5 6 7 8 9\n",
        "Sample Output\n",
        "[[1 2 3]\n",
        " [4 5 6]\n",
        " [7 8 9]]**"
      ],
      "metadata": {
        "id": "skymqtuNa28f"
      }
    },
    {
      "cell_type": "code",
      "source": [
        "import numpy as np\n",
        "\n",
        "arr = np.array(input().split(), int)\n",
        "print(np.reshape(arr, (3, 3)))"
      ],
      "metadata": {
        "colab": {
          "base_uri": "https://localhost:8080/"
        },
        "id": "VoJQhXBzbm98",
        "outputId": "52618d80-1910-46d2-f3b6-fe8d26e4657f"
      },
      "execution_count": null,
      "outputs": [
        {
          "output_type": "stream",
          "name": "stdout",
          "text": [
            "1 2 3 4 5 6 7 8 9\n",
            "[[1 2 3]\n",
            " [4 5 6]\n",
            " [7 8 9]]\n"
          ]
        }
      ]
    },
    {
      "cell_type": "markdown",
      "source": [
        "**pb-2:Transpose:\n",
        "We can generate the transposition of an array using the tool numpy.transpose.\n",
        "It will not affect the original array, but it will create a new array.\n",
        "import numpy and\n",
        "my_array = numpy.array([[1,2,3],[4,5,6]])\n",
        "print numpy.transpose(my_array),\n",
        "Output:\n",
        "[[1 4]\n",
        " [2 5]\n",
        " [3 6]]\n",
        "Flatten,\n",
        "The tool flatten creates a copy of the input array flattened to one dimension.\n",
        "import numpy,\n",
        "my_array = numpy.array([[1,2,3],\n",
        "                        [4,5,6]])\n",
        "print my_array.flatten(),\n",
        "Output:\n",
        "[1 2 3 4 5 6]\n",
        "Task:\n",
        "You are given a X integer array matrix with space separated elements ( = rows and  = columns).\n",
        "Your task is to print the transpose and flatten results.\n",
        "Input Format:\n",
        "The first line contains the space separated values of  and.\n",
        "The next  lines contains the space separated elements of  columns.\n",
        "Output Format:\n",
        "First, print the transpose array and then print the flatten.\n",
        "Sample Input:\n",
        "2 2\n",
        "1 2\n",
        "3 4\n",
        "Sample Output:\n",
        "[[1 3]\n",
        " [2 4]]\n",
        "[1 2 3 4]**"
      ],
      "metadata": {
        "id": "r-urc8nocDjV"
      }
    },
    {
      "cell_type": "code",
      "source": [
        "import numpy as np\n",
        "\n",
        "n, m = map(int, input().split())\n",
        "arr = np.array([input().split() for _ in range(n)], int)\n",
        "\n",
        "print(np.transpose(arr))\n",
        "print(arr.flatten())"
      ],
      "metadata": {
        "colab": {
          "base_uri": "https://localhost:8080/"
        },
        "id": "D6n8tYgOc76o",
        "outputId": "009949a3-9fc0-48a4-e512-fca8d3b743f9"
      },
      "execution_count": null,
      "outputs": [
        {
          "output_type": "stream",
          "name": "stdout",
          "text": [
            "2 2\n",
            "1 2\n",
            "3 4\n",
            "[[1 3]\n",
            " [2 4]]\n",
            "[1 2 3 4]\n"
          ]
        }
      ]
    },
    {
      "cell_type": "markdown",
      "source": [
        "**pb-3:Concatenate:\n",
        "Two or more arrays can be concatenated together using the concatenate function with a tuple of the arrays to be joined:\n",
        "import numpy,\n",
        "array_1 = numpy.array([1,2,3])\n",
        "array_2 = numpy.array([4,5,6])\n",
        "array_3 = numpy.array([7,8,9]),\n",
        "print numpy.concatenate((array_1, array_2, array_3)),  \n",
        "Output:\n",
        "[1 2 3 4 5 6 7 8 9]\n",
        "If an array has more than one dimension, it is possible to specify the axis along which multiple arrays are concatenated. By default, it is along the first dimension.\n",
        "import numpy,\n",
        "array_1 = numpy.array([[1,2,3],[0,0,0]])\n",
        "array_2 = numpy.array([[0,0,0],[7,8,9]])\n",
        "print numpy.concatenate((array_1, array_2), axis = 1)   \n",
        "Output:\n",
        "[[1 2 3 0 0 0]\n",
        " [0 0 0 7 8 9]]    \n",
        "Task:\n",
        "You are given two integer arrays of size X and X ( &  are rows, and  is the column). Your task is to concatenate the arrays along axis 0.\n",
        "Input Format:\n",
        "The first line contains space separated integers ,  and 0.\n",
        "The next  lines contains the space separated elements of the  columns.\n",
        "After that, the next  lines contains the space separated elements of the  columns.\n",
        "Output Format:\n",
        "Print the concatenated array of size X.\n",
        "Sample Input:\n",
        "4 3 2\n",
        "1 2\n",
        "1 2\n",
        "1 2\n",
        "1 2\n",
        "3 4\n",
        "3 4\n",
        "3 4\n",
        "Sample Output:\n",
        "[[1 2]\n",
        " [1 2]\n",
        " [1 2]\n",
        " [1 2]\n",
        " [3 4]\n",
        " [3 4]\n",
        " [3 4]]**"
      ],
      "metadata": {
        "id": "Gga05pLrdXDT"
      }
    },
    {
      "cell_type": "code",
      "source": [
        "import numpy as np\n",
        "\n",
        "n, m, p = map(int, input().split())\n",
        "arr1 = np.array([input().split() for _ in range(n)], int)\n",
        "arr2 = np.array([input().split() for _ in range(m)], int)\n",
        "print(np.concatenate((arr1, arr2), axis=0))\n"
      ],
      "metadata": {
        "colab": {
          "base_uri": "https://localhost:8080/"
        },
        "id": "tjiyhmEndaTu",
        "outputId": "6e2cd9f1-455a-41a8-e5c9-a6a3374b173a"
      },
      "execution_count": null,
      "outputs": [
        {
          "output_type": "stream",
          "name": "stdout",
          "text": [
            "4 3 2\n",
            "1 2\n",
            "1 2\n",
            "1 2\n",
            "1 2\n",
            "3 4\n",
            "3 4\n",
            "3 4\n",
            "[[1 2]\n",
            " [1 2]\n",
            " [1 2]\n",
            " [1 2]\n",
            " [3 4]\n",
            " [3 4]\n",
            " [3 4]]\n"
          ]
        }
      ]
    },
    {
      "cell_type": "markdown",
      "source": [
        "**pb-4:zeros,\n",
        "The zeros tool returns a new array with a given shape and type filled with 0's.\n",
        "import numpy,\n",
        "print numpy.zeros((1,2))#Default type is float\n",
        "Output:[[ 0.  0.]],\n",
        "print numpy.zeros((1,2), dtype = numpy.int) #Type changes to int\n",
        "Output:[[0 0]]\n",
        "ones,\n",
        "The ones tool returns a new array with a given shape and type filled with 1's.\n",
        "import numpy\n",
        "print numpy.ones((1,2))#Default type is float\n",
        "Output:[[ 1.  1.]],\n",
        "print numpy.ones((1,2), dtype = numpy.int) #Type changes to int\n",
        "Output:[[1 1]]   \n",
        "Task:\n",
        "You are given the shape of the array in the form of space-separated integers, each integer representing the size of different dimensions, your task is to print an array of the given shape and integer type using the tools numpy.zeros and numpy.ones.\n",
        "Input Format:\n",
        "A single line containing the space-separated integers.\n",
        "Constraints:\n",
        "Output Format:\n",
        "First, print the array using the numpy.zeros tool and then print the array with the numpy.ones tool.\n",
        "Sample Input 0:\n",
        "3 3 3\n",
        "Sample Output 0:\n",
        "[[[0 0 0]\n",
        "  [0 0 0]\n",
        "  [0 0 0]]\n",
        "[[0 0 0]\n",
        "  [0 0 0]\n",
        "  [0 0 0]]\n",
        "[[0 0 0]\n",
        "  [0 0 0]\n",
        "  [0 0 0]]]\n",
        "[[[1 1 1]\n",
        "  [1 1 1]\n",
        "  [1 1 1]]\n",
        "[[1 1 1]\n",
        "  [1 1 1]\n",
        "  [1 1 1]]\n",
        "[[1 1 1]\n",
        "  [1 1 1]\n",
        "  [1 1 1]]]\n",
        "Explanation 0:\n",
        "Print the array built using numpy.zeros and numpy.ones tools and you get the result as shown.**"
      ],
      "metadata": {
        "id": "jivqSy-me-c4"
      }
    },
    {
      "cell_type": "code",
      "source": [
        "import numpy as np\n",
        "\n",
        "shape = tuple(map(int, input().split()))\n",
        "print(np.zeros(shape, dtype=int))\n",
        "print(np.ones(shape, dtype=int))\n"
      ],
      "metadata": {
        "colab": {
          "base_uri": "https://localhost:8080/"
        },
        "id": "TJGXHbR-gCfD",
        "outputId": "fc750989-94ca-4ca7-846f-770b2510012b"
      },
      "execution_count": null,
      "outputs": [
        {
          "output_type": "stream",
          "name": "stdout",
          "text": [
            "3 3 3\n",
            "[[[0 0 0]\n",
            "  [0 0 0]\n",
            "  [0 0 0]]\n",
            "\n",
            " [[0 0 0]\n",
            "  [0 0 0]\n",
            "  [0 0 0]]\n",
            "\n",
            " [[0 0 0]\n",
            "  [0 0 0]\n",
            "  [0 0 0]]]\n",
            "[[[1 1 1]\n",
            "  [1 1 1]\n",
            "  [1 1 1]]\n",
            "\n",
            " [[1 1 1]\n",
            "  [1 1 1]\n",
            "  [1 1 1]]\n",
            "\n",
            " [[1 1 1]\n",
            "  [1 1 1]\n",
            "  [1 1 1]]]\n"
          ]
        }
      ]
    },
    {
      "cell_type": "markdown",
      "source": [
        "**pb-5:identity:\n",
        "The identity tool returns an identity array. An identity array is a square matrix with all the main diagonal elements as  and the rest as . The default type of elements is float.\n",
        "import numpy\n",
        "print numpy.identity(3) #3 is for  dimension 3 X 3\n",
        "Output:\n",
        "[[ 1.  0.  0.]\n",
        " [ 0.  1.  0.]\n",
        " [ 0.  0.  1.]]\n",
        "eye,\n",
        "The eye tool returns a 2-D array with 's as the diagonal and 's elsewhere. The diagonal can be main, upper or lower depending on the optional parameter . A positive  is for the upper diagonal, a negative  is for the lower, and a   (default) is for the main diagonal.\n",
        "import numpy,\n",
        "print numpy.eye(8, 7, k = 1)    # 8 X 7 Dimensional array with first upper diagonal 1.\n",
        "Output:\n",
        "[[ 0.  1.  0.  0.  0.  0.  0.]\n",
        " [ 0.  0.  1.  0.  0.  0.  0.]\n",
        " [ 0.  0.  0.  1.  0.  0.  0.]\n",
        " [ 0.  0.  0.  0.  1.  0.  0.]\n",
        " [ 0.  0.  0.  0.  0.  1.  0.]\n",
        " [ 0.  0.  0.  0.  0.  0.  1.]\n",
        " [ 0.  0.  0.  0.  0.  0.  0.]\n",
        " [ 0.  0.  0.  0.  0.  0.  0.]]\n",
        "print numpy.eye(8, 7, k = -2)   # 8 X 7 Dimensional array with second lower diagonal 1.\n",
        "Task:\n",
        "Your task is to print an array of size X with its main diagonal elements as 's and 's everywhere else.\n",
        "Note:\n",
        "In order to get alignment correct, please insert the line  below the numpy import.\n",
        "Input Format:\n",
        "A single line containing the space separated values of and.\n",
        "denotes the rows,\n",
        "denotes the columns.\n",
        "Output Format:\n",
        "Print the desired X array.\n",
        "Sample Input:\n",
        "3 3\n",
        "Sample Output:\n",
        "[[ 1.  0.  0.]\n",
        " [ 0.  1.  0.]\n",
        " [ 0.  0.  1.]]**"
      ],
      "metadata": {
        "id": "k7p1LHazhBUB"
      }
    },
    {
      "cell_type": "code",
      "source": [
        "import numpy as np\n",
        "\n",
        "n, m = map(int, input().split())\n",
        "print(np.eye(n, m))\n"
      ],
      "metadata": {
        "colab": {
          "base_uri": "https://localhost:8080/"
        },
        "id": "SFpqWFVphf9k",
        "outputId": "259df1cf-f1a3-4548-eda8-f9f8119f145d"
      },
      "execution_count": null,
      "outputs": [
        {
          "output_type": "stream",
          "name": "stdout",
          "text": [
            "3 3\n",
            "[[1. 0. 0.]\n",
            " [0. 1. 0.]\n",
            " [0. 0. 1.]]\n"
          ]
        }
      ]
    },
    {
      "cell_type": "markdown",
      "source": [
        "**6.You are given two integer arrays A, and B of dimensions X.\n",
        "Your task is to perform the following operations:\n",
        "Add( + )\n",
        "Subtract( - )\n",
        "Multiply( * )\n",
        "Integer Division( / )\n",
        "Mod( % )\n",
        "Power( ** )\n",
        "Note:\n",
        "There is a method numpy.floor_divide() that works like numpy.divide() except it performs a floor division.\n",
        "Input Format:\n",
        "The first line contains two space separated integers,M and N.\n",
        "The next  lines contains space separated integers of array.\n",
        "The following  lines contains space separated integers of array.\n",
        "Output Format:\n",
        "Print the result of each operation in the given order under Task.\n",
        "Sample Input:\n",
        "1 4\n",
        "1 2 3 4\n",
        "5 6 7 8\n",
        "Sample Output:\n",
        "[[ 6  8 10 12]]\n",
        "[[-4 -4 -4 -4]]\n",
        "[[ 5 12 21 32]]\n",
        "[[0 0 0 0]]\n",
        "[[1 2 3 4]]\n",
        "[[    1    64  2187 65536]]\n",
        "Use // for division in Python 3.**"
      ],
      "metadata": {
        "id": "hSscXaXsIYeM"
      }
    },
    {
      "cell_type": "code",
      "source": [
        "import numpy as np\n",
        "n, m = map(int, input().split())\n",
        "A = np.array([list(map(int, input().split())) for _ in range(n)])\n",
        "B = np.array([list(map(int, input().split())) for _ in range(n)])\n",
        "print(np.add(A, B))\n",
        "print(np.subtract(A, B))\n",
        "print(np.multiply(A, B))\n",
        "print(np.floor_divide(A, B))\n",
        "print(np.mod(A, B))\n",
        "print(np.power(A, B))\n"
      ],
      "metadata": {
        "colab": {
          "base_uri": "https://localhost:8080/"
        },
        "id": "ksma7b4yI_mR",
        "outputId": "b0df4608-4b1f-4614-a75c-900d9bfacc60"
      },
      "execution_count": 1,
      "outputs": [
        {
          "output_type": "stream",
          "name": "stdout",
          "text": [
            "1 4\n",
            "1 2 3 4\n",
            "5 6 7 8\n",
            "[[ 6  8 10 12]]\n",
            "[[-4 -4 -4 -4]]\n",
            "[[ 5 12 21 32]]\n",
            "[[0 0 0 0]]\n",
            "[[1 2 3 4]]\n",
            "[[    1    64  2187 65536]]\n"
          ]
        }
      ]
    },
    {
      "cell_type": "markdown",
      "source": [
        "**7.Task:\n",
        "You are given a 1-D array, . Your task is to print the ,  and  of all the elements of.\n",
        "Note:\n",
        "In order to get the correct output format, add the line  below the numpy import.\n",
        "Input Format:\n",
        "A single line of input containing the space separated elements of array .\n",
        "Output Format:\n",
        "On the first line, print the  of A.\n",
        "On the second line, print the  of A.\n",
        "On the third line, print the  of A.\n",
        "Sample Input:\n",
        "1.1 2.2 3.3 4.4 5.5 6.6 7.7 8.8 9.9\n",
        "Sample Output:\n",
        "[ 1.  2.  3.  4.  5.  6.  7.  8.  9.]\n",
        "[  2.   3.   4.   5.   6.   7.   8.   9.  10.]\n",
        "[  1.   2.   3.   4.   6.   7.   8.   9.  10.]**"
      ],
      "metadata": {
        "id": "lbRe4sAmJYZw"
      }
    },
    {
      "cell_type": "code",
      "source": [
        "import numpy as np\n",
        "np.set_printoptions(legacy='1.13')\n",
        "A = np.array(list(map(float, input().split())))\n",
        "print(np.floor(A))\n",
        "print(np.ceil(A))\n",
        "print(np.rint(A))\n"
      ],
      "metadata": {
        "colab": {
          "base_uri": "https://localhost:8080/"
        },
        "id": "EdXnufLVJpjA",
        "outputId": "277e1fce-1626-4808-a1dd-83cf709cc7f2"
      },
      "execution_count": 2,
      "outputs": [
        {
          "output_type": "stream",
          "name": "stdout",
          "text": [
            "1.1 2.2 3.3 4.4 5.5 6.6 7.7 8.8 9.9\n",
            "[ 1.  2.  3.  4.  5.  6.  7.  8.  9.]\n",
            "[  2.   3.   4.   5.   6.   7.   8.   9.  10.]\n",
            "[  1.   2.   3.   4.   6.   7.   8.   9.  10.]\n"
          ]
        }
      ]
    },
    {
      "cell_type": "markdown",
      "source": [
        "**8.Task:\n",
        "You are given a 2-D array with dimensions X.\n",
        "Your task is to perform the min function over axis  and then find the max of that.\n",
        "Input Format:\n",
        "The first line of input contains the space separated values of  and .\n",
        "The next  lines contains  space separated integers.\n",
        "Output Format:\n",
        "Compute the min along axis  and then print the max of that result.\n",
        "Sample Input:\n",
        "4 2\n",
        "2 5\n",
        "3 7\n",
        "1 3\n",
        "4 0\n",
        "Sample Output:\n",
        "3**"
      ],
      "metadata": {
        "id": "DPz7pj17KB4k"
      }
    },
    {
      "cell_type": "code",
      "source": [
        "import numpy as np\n",
        "\n",
        "n, m = map(int, input().split())\n",
        "array = np.array([list(map(int, input().split())) for _ in range(n)])\n",
        "\n",
        "print(np.max(np.min(array, axis=1)))\n"
      ],
      "metadata": {
        "colab": {
          "base_uri": "https://localhost:8080/"
        },
        "id": "eN7kHe3dKP6K",
        "outputId": "01cf5c78-0204-4979-c5b3-e38aa1c31da5"
      },
      "execution_count": 3,
      "outputs": [
        {
          "output_type": "stream",
          "name": "stdout",
          "text": [
            "4 2\n",
            "2 5\n",
            "3 7\n",
            "1 3\n",
            "4 0\n",
            "3\n"
          ]
        }
      ]
    },
    {
      "cell_type": "markdown",
      "source": [
        "**9.Task:\n",
        "You are given a 2-D array of size X.\n",
        "Your task is to find:\n",
        "The mean along axis\n",
        "The var along axis\n",
        "The std along axis\n",
        "Input Format:\n",
        "The first line contains the space separated values of  and .\n",
        "The next  lines contains  space separated integers.\n",
        "Output Format:\n",
        "First, print the mean.\n",
        "Second, print the var.\n",
        "Third, print the std.\n",
        "Sample Input:\n",
        "2 2\n",
        "1 2\n",
        "3 4\n",
        "Sample Output:\n",
        "[ 1.5  3.5]\n",
        "[ 1.  1.]\n",
        "1.11803398875**"
      ],
      "metadata": {
        "id": "yU0GnaByKa8-"
      }
    },
    {
      "cell_type": "code",
      "source": [
        "import numpy as np\n",
        "\n",
        "n, m = map(int, input().split())\n",
        "arr = np.array([input().split() for _ in range(n)], int)\n",
        "\n",
        "print(np.mean(arr, axis=1))\n",
        "print(np.var(arr, axis=0))\n",
        "print(round(np.std(arr), 11))\n"
      ],
      "metadata": {
        "colab": {
          "base_uri": "https://localhost:8080/"
        },
        "id": "XdMBOzszXv-w",
        "outputId": "07d13376-cf33-4868-c32f-dae6dfea2e67"
      },
      "execution_count": 4,
      "outputs": [
        {
          "output_type": "stream",
          "name": "stdout",
          "text": [
            "2 2\n",
            "1 2\n",
            "3 4\n",
            "[ 1.5  3.5]\n",
            "[ 1.  1.]\n",
            "1.11803398875\n"
          ]
        }
      ]
    },
    {
      "cell_type": "markdown",
      "source": [
        "**10.Task:\n",
        "You are given a 2-D array with dimensions X.\n",
        "Your task is to perform the  tool over axis  and then find the  of that result.\n",
        "Input Format:\n",
        "The first line of input contains space separated values of  and .\n",
        "The next  lines contains  space separated integers.\n",
        "Output Format:\n",
        "Compute the sum along axis . Then, print the product of that sum.\n",
        "Sample Input:\n",
        "2 2\n",
        "1 2\n",
        "3 4\n",
        "Sample Output:\n",
        "24**"
      ],
      "metadata": {
        "id": "07sghklbg-7b"
      }
    },
    {
      "cell_type": "code",
      "source": [
        "import numpy as np\n",
        "N, M = map(int, input().split())\n",
        "array = np.array([list(map(int, input().split())) for _ in range(N)])\n",
        "result = np.prod(np.sum(array, axis=0))\n",
        "print(result)"
      ],
      "metadata": {
        "colab": {
          "base_uri": "https://localhost:8080/"
        },
        "id": "kveDCSC1hNq9",
        "outputId": "d0c14bec-1fc2-4015-f4ea-bd0d3343ef2a"
      },
      "execution_count": 5,
      "outputs": [
        {
          "output_type": "stream",
          "name": "stdout",
          "text": [
            "2 2\n",
            "1 2\n",
            "3 4\n",
            "24\n"
          ]
        }
      ]
    },
    {
      "cell_type": "markdown",
      "source": [
        "**11.Task:\n",
        "You are given two arrays  and . Both have dimensions of X.\n",
        "Your task is to compute their matrix product.\n",
        "Input Format:\n",
        "The first line contains the integer .\n",
        "The next  lines contains  space separated integers of array .\n",
        "The following  lines contains  space separated integers of array .\n",
        "Output Format:\n",
        "Print the matrix multiplication of  and .\n",
        "Sample Input:\n",
        "2\n",
        "1 2\n",
        "3 4\n",
        "1 2\n",
        "3 4\n",
        "Sample Output:\n",
        "[[ 7 10]\n",
        " [15 22]]**"
      ],
      "metadata": {
        "id": "3dtIYTN9hhQz"
      }
    },
    {
      "cell_type": "code",
      "source": [
        "import numpy as np\n",
        "n = int(input())\n",
        "A = np.array([input().split() for _ in range(n)], int)\n",
        "B = np.array([input().split() for _ in range(n)], int)\n",
        "print(np.dot(A, B))\n"
      ],
      "metadata": {
        "colab": {
          "base_uri": "https://localhost:8080/"
        },
        "id": "bFWUWfX2h7mL",
        "outputId": "6d5257f3-df41-44a3-8522-a7e557c08495"
      },
      "execution_count": 6,
      "outputs": [
        {
          "output_type": "stream",
          "name": "stdout",
          "text": [
            "2\n",
            "1 2\n",
            "3 4\n",
            "1 2\n",
            "3 4\n",
            "[[ 7 10]\n",
            " [15 22]]\n"
          ]
        }
      ]
    },
    {
      "cell_type": "markdown",
      "source": [
        "**12.Task:\n",
        "You are given two arrays:  and .\n",
        "Your task is to compute their inner and outer product.\n",
        "Input Format:\n",
        "The first line contains the space separated elements of array .\n",
        "The second line contains the space separated elements of array .\n",
        "Output Format:\n",
        "First, print the inner product.\n",
        "Second, print the outer product.\n",
        "Sample Input:\n",
        "0 1\n",
        "2 3\n",
        "Sample Output:\n",
        "3\n",
        "[[0 0]\n",
        " [2 3]]**"
      ],
      "metadata": {
        "id": "7xFIhqYriFF_"
      }
    },
    {
      "cell_type": "code",
      "source": [
        "import numpy as np\n",
        "A = np.array(input().split(), int)\n",
        "B = np.array(input().split(), int)\n",
        "print(np.inner(A, B))\n",
        "print(np.outer(A, B))\n"
      ],
      "metadata": {
        "colab": {
          "base_uri": "https://localhost:8080/"
        },
        "id": "XEmURFcmie0f",
        "outputId": "e50b739a-0842-4b15-99a4-3166a65b0bb5"
      },
      "execution_count": 7,
      "outputs": [
        {
          "output_type": "stream",
          "name": "stdout",
          "text": [
            "0 1\n",
            "2 3\n",
            "3\n",
            "[[0 0]\n",
            " [2 3]]\n"
          ]
        }
      ]
    },
    {
      "cell_type": "markdown",
      "source": [
        "**13.Task:\n",
        "You are given the coefficients of a polynomial .\n",
        "Your task is to find the value of  at point.\n",
        "Input Format:\n",
        "The first line contains the space separated value of the coefficients in .\n",
        "The second line contains the value of .\n",
        "Output Format:\n",
        "Print the desired value.\n",
        "Sample Input:\n",
        "1.1 2 3\n",
        "0\n",
        "Sample Output:\n",
        "3.0**"
      ],
      "metadata": {
        "id": "0gFNPFBbiv0R"
      }
    },
    {
      "cell_type": "code",
      "source": [
        "import numpy as np\n",
        "coefficient = np.array(input().split(), float)\n",
        "x = float(input())\n",
        "print(np.polyval(coefficient, x))"
      ],
      "metadata": {
        "colab": {
          "base_uri": "https://localhost:8080/"
        },
        "id": "ii2K4qCojAUt",
        "outputId": "6c1e2c60-b7d0-440e-dd38-15f754e6018e"
      },
      "execution_count": 8,
      "outputs": [
        {
          "output_type": "stream",
          "name": "stdout",
          "text": [
            "1.1 2 3\n",
            "0\n",
            "3.0\n"
          ]
        }
      ]
    },
    {
      "cell_type": "markdown",
      "source": [
        "**14.Task:\n",
        "You are given a square matrix  with dimensions X. Your task is to find the determinant. Note: Round the answer to 2 places after the decimal.\n",
        "Input Format:\n",
        "The first line contains the integer .\n",
        "The next  lines contains the  space separated elements of array .\n",
        "Output Format:\n",
        "Print the determinant of .\n",
        "Sample Input:\n",
        "2\n",
        "1.1 1.1\n",
        "1.1 1.1\n",
        "Sample Output:\n",
        "0.0**"
      ],
      "metadata": {
        "id": "pMoLtKHmjN46"
      }
    },
    {
      "cell_type": "code",
      "source": [
        "import numpy as np\n",
        "\n",
        "n = int(input())\n",
        "matrix = np.array([input().split() for _ in range(n)], float)\n",
        "\n",
        "determinant = np.linalg.det(matrix)\n",
        "print(round(determinant, 2))\n"
      ],
      "metadata": {
        "colab": {
          "base_uri": "https://localhost:8080/"
        },
        "id": "G5r8AVOpjaL-",
        "outputId": "eb20f624-04f0-45d1-a04e-43521b0310a1"
      },
      "execution_count": 10,
      "outputs": [
        {
          "output_type": "stream",
          "name": "stdout",
          "text": [
            "2\n",
            "1.1 1.1\n",
            "1.1 1.1\n",
            "0.0\n"
          ]
        }
      ]
    }
  ]
}